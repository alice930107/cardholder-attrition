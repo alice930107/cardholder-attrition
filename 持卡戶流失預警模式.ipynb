{
 "cells": [
  {
   "cell_type": "code",
   "execution_count": 2,
   "metadata": {
    "id": "Lg5fOGT6s4Qk"
   },
   "outputs": [],
   "source": [
    "import pandas as pd\n",
    "import numpy as np\n",
    "df = pd.read_excel('BankChurners.xlsx')"
   ]
  },
  {
   "cell_type": "code",
   "execution_count": 3,
   "metadata": {
    "colab": {
     "base_uri": "https://localhost:8080/",
     "height": 270
    },
    "id": "ZBCDmzCxtAOP",
    "outputId": "5029c409-fa6e-43dc-d6c0-131d875554c5"
   },
   "outputs": [
    {
     "data": {
      "text/html": [
       "<div>\n",
       "<style scoped>\n",
       "    .dataframe tbody tr th:only-of-type {\n",
       "        vertical-align: middle;\n",
       "    }\n",
       "\n",
       "    .dataframe tbody tr th {\n",
       "        vertical-align: top;\n",
       "    }\n",
       "\n",
       "    .dataframe thead th {\n",
       "        text-align: right;\n",
       "    }\n",
       "</style>\n",
       "<table border=\"1\" class=\"dataframe\">\n",
       "  <thead>\n",
       "    <tr style=\"text-align: right;\">\n",
       "      <th></th>\n",
       "      <th>CLIENTNUM</th>\n",
       "      <th>Attrition_Flag</th>\n",
       "      <th>Customer_Age</th>\n",
       "      <th>Gender</th>\n",
       "      <th>Dependent_count</th>\n",
       "      <th>Education_Level</th>\n",
       "      <th>Marital_Status</th>\n",
       "      <th>Income_Category</th>\n",
       "      <th>Card_Category</th>\n",
       "      <th>Months_on_book</th>\n",
       "      <th>Total_Relationship_Count</th>\n",
       "      <th>Months_Inactive_12_mon</th>\n",
       "      <th>Credit_Limit</th>\n",
       "      <th>Total_Revolving_Bal</th>\n",
       "      <th>Total_Trans_Amt</th>\n",
       "      <th>Total_Trans_Ct</th>\n",
       "    </tr>\n",
       "  </thead>\n",
       "  <tbody>\n",
       "    <tr>\n",
       "      <th>0</th>\n",
       "      <td>768805383.0</td>\n",
       "      <td>1.0</td>\n",
       "      <td>45.0</td>\n",
       "      <td>M</td>\n",
       "      <td>3.0</td>\n",
       "      <td>High School</td>\n",
       "      <td>Married</td>\n",
       "      <td>$60K - $80K</td>\n",
       "      <td>Blue</td>\n",
       "      <td>39.0</td>\n",
       "      <td>5.0</td>\n",
       "      <td>1.0</td>\n",
       "      <td>12691.0</td>\n",
       "      <td>777.0</td>\n",
       "      <td>1144.0</td>\n",
       "      <td>42.0</td>\n",
       "    </tr>\n",
       "    <tr>\n",
       "      <th>1</th>\n",
       "      <td>818770008.0</td>\n",
       "      <td>1.0</td>\n",
       "      <td>49.0</td>\n",
       "      <td>F</td>\n",
       "      <td>5.0</td>\n",
       "      <td>Graduate</td>\n",
       "      <td>Single</td>\n",
       "      <td>Less than $40K</td>\n",
       "      <td>Blue</td>\n",
       "      <td>44.0</td>\n",
       "      <td>6.0</td>\n",
       "      <td>1.0</td>\n",
       "      <td>8256.0</td>\n",
       "      <td>864.0</td>\n",
       "      <td>1291.0</td>\n",
       "      <td>33.0</td>\n",
       "    </tr>\n",
       "    <tr>\n",
       "      <th>2</th>\n",
       "      <td>713982108.0</td>\n",
       "      <td>1.0</td>\n",
       "      <td>51.0</td>\n",
       "      <td>M</td>\n",
       "      <td>3.0</td>\n",
       "      <td>Graduate</td>\n",
       "      <td>Married</td>\n",
       "      <td>$80K - $120K</td>\n",
       "      <td>Blue</td>\n",
       "      <td>36.0</td>\n",
       "      <td>4.0</td>\n",
       "      <td>1.0</td>\n",
       "      <td>3418.0</td>\n",
       "      <td>0.0</td>\n",
       "      <td>1887.0</td>\n",
       "      <td>20.0</td>\n",
       "    </tr>\n",
       "    <tr>\n",
       "      <th>3</th>\n",
       "      <td>769911858.0</td>\n",
       "      <td>1.0</td>\n",
       "      <td>40.0</td>\n",
       "      <td>F</td>\n",
       "      <td>4.0</td>\n",
       "      <td>High School</td>\n",
       "      <td>Unknown</td>\n",
       "      <td>Less than $40K</td>\n",
       "      <td>Blue</td>\n",
       "      <td>34.0</td>\n",
       "      <td>3.0</td>\n",
       "      <td>4.0</td>\n",
       "      <td>3313.0</td>\n",
       "      <td>2517.0</td>\n",
       "      <td>1171.0</td>\n",
       "      <td>20.0</td>\n",
       "    </tr>\n",
       "    <tr>\n",
       "      <th>4</th>\n",
       "      <td>709106358.0</td>\n",
       "      <td>1.0</td>\n",
       "      <td>40.0</td>\n",
       "      <td>M</td>\n",
       "      <td>3.0</td>\n",
       "      <td>Uneducated</td>\n",
       "      <td>Married</td>\n",
       "      <td>$60K - $80K</td>\n",
       "      <td>Blue</td>\n",
       "      <td>21.0</td>\n",
       "      <td>5.0</td>\n",
       "      <td>1.0</td>\n",
       "      <td>4716.0</td>\n",
       "      <td>0.0</td>\n",
       "      <td>816.0</td>\n",
       "      <td>28.0</td>\n",
       "    </tr>\n",
       "  </tbody>\n",
       "</table>\n",
       "</div>"
      ],
      "text/plain": [
       "     CLIENTNUM  Attrition_Flag  Customer_Age Gender  Dependent_count  \\\n",
       "0  768805383.0             1.0          45.0      M              3.0   \n",
       "1  818770008.0             1.0          49.0      F              5.0   \n",
       "2  713982108.0             1.0          51.0      M              3.0   \n",
       "3  769911858.0             1.0          40.0      F              4.0   \n",
       "4  709106358.0             1.0          40.0      M              3.0   \n",
       "\n",
       "  Education_Level Marital_Status Income_Category Card_Category  \\\n",
       "0     High School        Married     $60K - $80K          Blue   \n",
       "1        Graduate         Single  Less than $40K          Blue   \n",
       "2        Graduate        Married    $80K - $120K          Blue   \n",
       "3     High School        Unknown  Less than $40K          Blue   \n",
       "4      Uneducated        Married     $60K - $80K          Blue   \n",
       "\n",
       "   Months_on_book  Total_Relationship_Count  Months_Inactive_12_mon  \\\n",
       "0            39.0                       5.0                     1.0   \n",
       "1            44.0                       6.0                     1.0   \n",
       "2            36.0                       4.0                     1.0   \n",
       "3            34.0                       3.0                     4.0   \n",
       "4            21.0                       5.0                     1.0   \n",
       "\n",
       "   Credit_Limit  Total_Revolving_Bal  Total_Trans_Amt  Total_Trans_Ct  \n",
       "0       12691.0                777.0           1144.0            42.0  \n",
       "1        8256.0                864.0           1291.0            33.0  \n",
       "2        3418.0                  0.0           1887.0            20.0  \n",
       "3        3313.0               2517.0           1171.0            20.0  \n",
       "4        4716.0                  0.0            816.0            28.0  "
      ]
     },
     "execution_count": 3,
     "metadata": {},
     "output_type": "execute_result"
    }
   ],
   "source": [
    "df.head()"
   ]
  },
  {
   "cell_type": "code",
   "execution_count": 4,
   "metadata": {
    "colab": {
     "base_uri": "https://localhost:8080/"
    },
    "id": "6LVRK5intAK_",
    "outputId": "7aeb5784-9b17-4cbb-cc67-021b1cb74974"
   },
   "outputs": [
    {
     "name": "stdout",
     "output_type": "stream",
     "text": [
      "<class 'pandas.core.frame.DataFrame'>\n",
      "RangeIndex: 10127 entries, 0 to 10126\n",
      "Data columns (total 16 columns):\n",
      " #   Column                    Non-Null Count  Dtype  \n",
      "---  ------                    --------------  -----  \n",
      " 0   CLIENTNUM                 10127 non-null  float64\n",
      " 1   Attrition_Flag            10127 non-null  float64\n",
      " 2   Customer_Age              10127 non-null  float64\n",
      " 3   Gender                    10127 non-null  object \n",
      " 4   Dependent_count           10127 non-null  float64\n",
      " 5   Education_Level           10127 non-null  object \n",
      " 6   Marital_Status            10127 non-null  object \n",
      " 7   Income_Category           10127 non-null  object \n",
      " 8   Card_Category             10127 non-null  object \n",
      " 9   Months_on_book            10127 non-null  float64\n",
      " 10  Total_Relationship_Count  10127 non-null  float64\n",
      " 11  Months_Inactive_12_mon    10127 non-null  float64\n",
      " 12  Credit_Limit              10127 non-null  float64\n",
      " 13  Total_Revolving_Bal       10127 non-null  float64\n",
      " 14  Total_Trans_Amt           10127 non-null  float64\n",
      " 15  Total_Trans_Ct            10127 non-null  float64\n",
      "dtypes: float64(11), object(5)\n",
      "memory usage: 1.2+ MB\n"
     ]
    }
   ],
   "source": [
    "df.info()"
   ]
  },
  {
   "cell_type": "code",
   "execution_count": 5,
   "metadata": {
    "id": "8P3qZDGktAHk"
   },
   "outputs": [],
   "source": [
    "bic_var = ['Gender','Education_Level','Marital_Status','Income_Category','Card_Category']"
   ]
  },
  {
   "cell_type": "code",
   "execution_count": 6,
   "metadata": {
    "colab": {
     "base_uri": "https://localhost:8080/",
     "height": 391
    },
    "id": "qyG-lSfLtAEo",
    "outputId": "6a8be993-59f6-4dca-ef8c-07ef95837612"
   },
   "outputs": [
    {
     "name": "stdout",
     "output_type": "stream",
     "text": [
      "['F' 'M']\n",
      "['College' 'Doctorate' 'Graduate' 'High School' 'Post-Graduate'\n",
      " 'Uneducated' 'Unknown']\n",
      "['Divorced' 'Married' 'Single' 'Unknown']\n",
      "['$120K +' '$40K - $60K' '$60K - $80K' '$80K - $120K' 'Less than $40K'\n",
      " 'Unknown']\n",
      "['Blue' 'Gold' 'Platinum' 'Silver']\n"
     ]
    },
    {
     "data": {
      "text/html": [
       "<div>\n",
       "<style scoped>\n",
       "    .dataframe tbody tr th:only-of-type {\n",
       "        vertical-align: middle;\n",
       "    }\n",
       "\n",
       "    .dataframe tbody tr th {\n",
       "        vertical-align: top;\n",
       "    }\n",
       "\n",
       "    .dataframe thead th {\n",
       "        text-align: right;\n",
       "    }\n",
       "</style>\n",
       "<table border=\"1\" class=\"dataframe\">\n",
       "  <thead>\n",
       "    <tr style=\"text-align: right;\">\n",
       "      <th></th>\n",
       "      <th>CLIENTNUM</th>\n",
       "      <th>Attrition_Flag</th>\n",
       "      <th>Customer_Age</th>\n",
       "      <th>Gender</th>\n",
       "      <th>Dependent_count</th>\n",
       "      <th>Education_Level</th>\n",
       "      <th>Marital_Status</th>\n",
       "      <th>Income_Category</th>\n",
       "      <th>Card_Category</th>\n",
       "      <th>Months_on_book</th>\n",
       "      <th>Total_Relationship_Count</th>\n",
       "      <th>Months_Inactive_12_mon</th>\n",
       "      <th>Credit_Limit</th>\n",
       "      <th>Total_Revolving_Bal</th>\n",
       "      <th>Total_Trans_Amt</th>\n",
       "      <th>Total_Trans_Ct</th>\n",
       "    </tr>\n",
       "  </thead>\n",
       "  <tbody>\n",
       "    <tr>\n",
       "      <th>0</th>\n",
       "      <td>768805383.0</td>\n",
       "      <td>1.0</td>\n",
       "      <td>45.0</td>\n",
       "      <td>1</td>\n",
       "      <td>3.0</td>\n",
       "      <td>3</td>\n",
       "      <td>1</td>\n",
       "      <td>2</td>\n",
       "      <td>0</td>\n",
       "      <td>39.0</td>\n",
       "      <td>5.0</td>\n",
       "      <td>1.0</td>\n",
       "      <td>12691.0</td>\n",
       "      <td>777.0</td>\n",
       "      <td>1144.0</td>\n",
       "      <td>42.0</td>\n",
       "    </tr>\n",
       "    <tr>\n",
       "      <th>1</th>\n",
       "      <td>818770008.0</td>\n",
       "      <td>1.0</td>\n",
       "      <td>49.0</td>\n",
       "      <td>0</td>\n",
       "      <td>5.0</td>\n",
       "      <td>2</td>\n",
       "      <td>2</td>\n",
       "      <td>4</td>\n",
       "      <td>0</td>\n",
       "      <td>44.0</td>\n",
       "      <td>6.0</td>\n",
       "      <td>1.0</td>\n",
       "      <td>8256.0</td>\n",
       "      <td>864.0</td>\n",
       "      <td>1291.0</td>\n",
       "      <td>33.0</td>\n",
       "    </tr>\n",
       "    <tr>\n",
       "      <th>2</th>\n",
       "      <td>713982108.0</td>\n",
       "      <td>1.0</td>\n",
       "      <td>51.0</td>\n",
       "      <td>1</td>\n",
       "      <td>3.0</td>\n",
       "      <td>2</td>\n",
       "      <td>1</td>\n",
       "      <td>3</td>\n",
       "      <td>0</td>\n",
       "      <td>36.0</td>\n",
       "      <td>4.0</td>\n",
       "      <td>1.0</td>\n",
       "      <td>3418.0</td>\n",
       "      <td>0.0</td>\n",
       "      <td>1887.0</td>\n",
       "      <td>20.0</td>\n",
       "    </tr>\n",
       "    <tr>\n",
       "      <th>3</th>\n",
       "      <td>769911858.0</td>\n",
       "      <td>1.0</td>\n",
       "      <td>40.0</td>\n",
       "      <td>0</td>\n",
       "      <td>4.0</td>\n",
       "      <td>3</td>\n",
       "      <td>3</td>\n",
       "      <td>4</td>\n",
       "      <td>0</td>\n",
       "      <td>34.0</td>\n",
       "      <td>3.0</td>\n",
       "      <td>4.0</td>\n",
       "      <td>3313.0</td>\n",
       "      <td>2517.0</td>\n",
       "      <td>1171.0</td>\n",
       "      <td>20.0</td>\n",
       "    </tr>\n",
       "    <tr>\n",
       "      <th>4</th>\n",
       "      <td>709106358.0</td>\n",
       "      <td>1.0</td>\n",
       "      <td>40.0</td>\n",
       "      <td>1</td>\n",
       "      <td>3.0</td>\n",
       "      <td>5</td>\n",
       "      <td>1</td>\n",
       "      <td>2</td>\n",
       "      <td>0</td>\n",
       "      <td>21.0</td>\n",
       "      <td>5.0</td>\n",
       "      <td>1.0</td>\n",
       "      <td>4716.0</td>\n",
       "      <td>0.0</td>\n",
       "      <td>816.0</td>\n",
       "      <td>28.0</td>\n",
       "    </tr>\n",
       "  </tbody>\n",
       "</table>\n",
       "</div>"
      ],
      "text/plain": [
       "     CLIENTNUM  Attrition_Flag  Customer_Age  Gender  Dependent_count  \\\n",
       "0  768805383.0             1.0          45.0       1              3.0   \n",
       "1  818770008.0             1.0          49.0       0              5.0   \n",
       "2  713982108.0             1.0          51.0       1              3.0   \n",
       "3  769911858.0             1.0          40.0       0              4.0   \n",
       "4  709106358.0             1.0          40.0       1              3.0   \n",
       "\n",
       "   Education_Level  Marital_Status  Income_Category  Card_Category  \\\n",
       "0                3               1                2              0   \n",
       "1                2               2                4              0   \n",
       "2                2               1                3              0   \n",
       "3                3               3                4              0   \n",
       "4                5               1                2              0   \n",
       "\n",
       "   Months_on_book  Total_Relationship_Count  Months_Inactive_12_mon  \\\n",
       "0            39.0                       5.0                     1.0   \n",
       "1            44.0                       6.0                     1.0   \n",
       "2            36.0                       4.0                     1.0   \n",
       "3            34.0                       3.0                     4.0   \n",
       "4            21.0                       5.0                     1.0   \n",
       "\n",
       "   Credit_Limit  Total_Revolving_Bal  Total_Trans_Amt  Total_Trans_Ct  \n",
       "0       12691.0                777.0           1144.0            42.0  \n",
       "1        8256.0                864.0           1291.0            33.0  \n",
       "2        3418.0                  0.0           1887.0            20.0  \n",
       "3        3313.0               2517.0           1171.0            20.0  \n",
       "4        4716.0                  0.0            816.0            28.0  "
      ]
     },
     "execution_count": 6,
     "metadata": {},
     "output_type": "execute_result"
    }
   ],
   "source": [
    "#LabelEncoder文字轉數字\n",
    "from sklearn.preprocessing import LabelEncoder\n",
    "labelencoder=LabelEncoder()\n",
    "\n",
    "for i in range(len(bic_var)):\n",
    "  df[bic_var[i]]=labelencoder.fit_transform(df[bic_var[i]])\n",
    "  print(labelencoder.classes_)\n",
    "df.head()"
   ]
  },
  {
   "cell_type": "markdown",
   "metadata": {
    "id": "k1q4LdjjuFLE"
   },
   "source": [
    "#卡方檢定"
   ]
  },
  {
   "cell_type": "code",
   "execution_count": 7,
   "metadata": {
    "id": "ku3MAKtFt0zO"
   },
   "outputs": [],
   "source": [
    "import scipy.stats as stats\n",
    "blist=[]\n",
    "pvlist=[]\n",
    "for i in range(len(bic_var)):\n",
    " hh=pd.crosstab(df['Attrition_Flag'],df[bic_var[i]])\n",
    " cr=stats.chi2_contingency(hh)\n",
    " blist.append(cr[0])\n",
    " pvlist.append(cr[1])"
   ]
  },
  {
   "cell_type": "code",
   "execution_count": 8,
   "metadata": {
    "colab": {
     "base_uri": "https://localhost:8080/",
     "height": 206
    },
    "id": "sgcMZ0VCuKWc",
    "outputId": "f331d901-51e2-49ff-814d-85a97da73154"
   },
   "outputs": [
    {
     "data": {
      "text/html": [
       "<div>\n",
       "<style scoped>\n",
       "    .dataframe tbody tr th:only-of-type {\n",
       "        vertical-align: middle;\n",
       "    }\n",
       "\n",
       "    .dataframe tbody tr th {\n",
       "        vertical-align: top;\n",
       "    }\n",
       "\n",
       "    .dataframe thead th {\n",
       "        text-align: right;\n",
       "    }\n",
       "</style>\n",
       "<table border=\"1\" class=\"dataframe\">\n",
       "  <thead>\n",
       "    <tr style=\"text-align: right;\">\n",
       "      <th></th>\n",
       "      <th>卡方值</th>\n",
       "      <th>pv</th>\n",
       "    </tr>\n",
       "  </thead>\n",
       "  <tbody>\n",
       "    <tr>\n",
       "      <th>Gender</th>\n",
       "      <td>13.87</td>\n",
       "      <td>0.00</td>\n",
       "    </tr>\n",
       "    <tr>\n",
       "      <th>Education_Level</th>\n",
       "      <td>12.51</td>\n",
       "      <td>0.05</td>\n",
       "    </tr>\n",
       "    <tr>\n",
       "      <th>Marital_Status</th>\n",
       "      <td>6.06</td>\n",
       "      <td>0.11</td>\n",
       "    </tr>\n",
       "    <tr>\n",
       "      <th>Income_Category</th>\n",
       "      <td>12.83</td>\n",
       "      <td>0.03</td>\n",
       "    </tr>\n",
       "    <tr>\n",
       "      <th>Card_Category</th>\n",
       "      <td>2.23</td>\n",
       "      <td>0.53</td>\n",
       "    </tr>\n",
       "  </tbody>\n",
       "</table>\n",
       "</div>"
      ],
      "text/plain": [
       "                  卡方值   pv\n",
       "Gender          13.87 0.00\n",
       "Education_Level 12.51 0.05\n",
       "Marital_Status   6.06 0.11\n",
       "Income_Category 12.83 0.03\n",
       "Card_Category    2.23 0.53"
      ]
     },
     "execution_count": 8,
     "metadata": {},
     "output_type": "execute_result"
    }
   ],
   "source": [
    "pd.set_option('display.float_format',lambda x:'%.2f'%x)\n",
    "result=pd.DataFrame(blist,bic_var,columns=['卡方值'])\n",
    "result.insert(1,'pv',pvlist)\n",
    "result"
   ]
  },
  {
   "cell_type": "markdown",
   "metadata": {
    "id": "2LFebwTPuXz_"
   },
   "source": [
    "#T檢定"
   ]
  },
  {
   "cell_type": "code",
   "execution_count": 9,
   "metadata": {
    "id": "mX65TgFkuZQX"
   },
   "outputs": [],
   "source": [
    "fin_var=['Customer_Age','Dependent_count','Months_on_book','Total_Relationship_Count','Months_Inactive_12_mon','Credit_Limit','Total_Revolving_Bal','Total_Trans_Amt','Total_Trans_Ct']"
   ]
  },
  {
   "cell_type": "code",
   "execution_count": 10,
   "metadata": {
    "id": "_QlXpx83uZre"
   },
   "outputs": [],
   "source": [
    "from scipy import stats\n",
    "name=[]\n",
    "alist=[]\n",
    "pvlist=[]\n",
    "for i in range(len(fin_var)):\n",
    "  (a,pv)=stats.ttest_ind(df[fin_var[i]][df['Attrition_Flag']==0],df[fin_var[i]][df['Attrition_Flag']==1])\n",
    "  name.append(fin_var[i])\n",
    "  alist.append(a)\n",
    "  pvlist.append(pv)"
   ]
  },
  {
   "cell_type": "code",
   "execution_count": 11,
   "metadata": {
    "colab": {
     "base_uri": "https://localhost:8080/",
     "height": 331
    },
    "id": "HateBQz6uZkZ",
    "outputId": "dc95ba3c-5c23-4bc5-dc98-d42553cfeb0e"
   },
   "outputs": [
    {
     "data": {
      "text/html": [
       "<div>\n",
       "<style scoped>\n",
       "    .dataframe tbody tr th:only-of-type {\n",
       "        vertical-align: middle;\n",
       "    }\n",
       "\n",
       "    .dataframe tbody tr th {\n",
       "        vertical-align: top;\n",
       "    }\n",
       "\n",
       "    .dataframe thead th {\n",
       "        text-align: right;\n",
       "    }\n",
       "</style>\n",
       "<table border=\"1\" class=\"dataframe\">\n",
       "  <thead>\n",
       "    <tr style=\"text-align: right;\">\n",
       "      <th></th>\n",
       "      <th>t</th>\n",
       "      <th>pv</th>\n",
       "    </tr>\n",
       "  </thead>\n",
       "  <tbody>\n",
       "    <tr>\n",
       "      <th>Customer_Age</th>\n",
       "      <td>1.83</td>\n",
       "      <td>0.07</td>\n",
       "    </tr>\n",
       "    <tr>\n",
       "      <th>Dependent_count</th>\n",
       "      <td>1.91</td>\n",
       "      <td>0.06</td>\n",
       "    </tr>\n",
       "    <tr>\n",
       "      <th>Months_on_book</th>\n",
       "      <td>1.38</td>\n",
       "      <td>0.17</td>\n",
       "    </tr>\n",
       "    <tr>\n",
       "      <th>Total_Relationship_Count</th>\n",
       "      <td>-15.27</td>\n",
       "      <td>0.00</td>\n",
       "    </tr>\n",
       "    <tr>\n",
       "      <th>Months_Inactive_12_mon</th>\n",
       "      <td>15.52</td>\n",
       "      <td>0.00</td>\n",
       "    </tr>\n",
       "    <tr>\n",
       "      <th>Credit_Limit</th>\n",
       "      <td>-2.40</td>\n",
       "      <td>0.02</td>\n",
       "    </tr>\n",
       "    <tr>\n",
       "      <th>Total_Revolving_Bal</th>\n",
       "      <td>-27.44</td>\n",
       "      <td>0.00</td>\n",
       "    </tr>\n",
       "    <tr>\n",
       "      <th>Total_Trans_Amt</th>\n",
       "      <td>-17.21</td>\n",
       "      <td>0.00</td>\n",
       "    </tr>\n",
       "    <tr>\n",
       "      <th>Total_Trans_Ct</th>\n",
       "      <td>-40.25</td>\n",
       "      <td>0.00</td>\n",
       "    </tr>\n",
       "  </tbody>\n",
       "</table>\n",
       "</div>"
      ],
      "text/plain": [
       "                              t   pv\n",
       "Customer_Age               1.83 0.07\n",
       "Dependent_count            1.91 0.06\n",
       "Months_on_book             1.38 0.17\n",
       "Total_Relationship_Count -15.27 0.00\n",
       "Months_Inactive_12_mon    15.52 0.00\n",
       "Credit_Limit              -2.40 0.02\n",
       "Total_Revolving_Bal      -27.44 0.00\n",
       "Total_Trans_Amt          -17.21 0.00\n",
       "Total_Trans_Ct           -40.25 0.00"
      ]
     },
     "execution_count": 11,
     "metadata": {},
     "output_type": "execute_result"
    }
   ],
   "source": [
    "pd.set_option('display.float_format',lambda x:'%.2f'%x)\n",
    "result=pd.DataFrame(alist,name,columns=['t'])\n",
    "result.insert(1,'pv',pvlist)\n",
    "result"
   ]
  },
  {
   "cell_type": "markdown",
   "metadata": {
    "id": "EYI3EQM8vXuI"
   },
   "source": [
    "#決策樹"
   ]
  },
  {
   "cell_type": "code",
   "execution_count": 12,
   "metadata": {
    "id": "AGKCUDepwDRj"
   },
   "outputs": [],
   "source": [
    "X=df[['Gender','Income_Category','Total_Relationship_Count','Months_Inactive_12_mon','Credit_Limit','Total_Revolving_Bal','Total_Trans_Amt','Total_Trans_Ct']]\n",
    "y=df['Attrition_Flag']\n",
    "from sklearn.model_selection import train_test_split #區分訓練集與測試集\n",
    "X_train, X_test,y_train,y_test = train_test_split(X,y,test_size=0.3,random_state=20)"
   ]
  },
  {
   "cell_type": "code",
   "execution_count": 13,
   "metadata": {
    "id": "j0nVS1cXwJ4e"
   },
   "outputs": [],
   "source": [
    "#以決策樹建立預測模型\n",
    "from sklearn import tree\n",
    "DT = tree.DecisionTreeClassifier()\n",
    "DT= DT.fit(X, y)"
   ]
  },
  {
   "cell_type": "code",
   "execution_count": 14,
   "metadata": {
    "colab": {
     "base_uri": "https://localhost:8080/"
    },
    "id": "rFrPNOcKwJxM",
    "outputId": "964b86c5-6988-4c31-fb50-5fb80c005aeb"
   },
   "outputs": [
    {
     "name": "stdout",
     "output_type": "stream",
     "text": [
      "特徵重要程度:  [0.0154076  0.02159195 0.11084913 0.03384668 0.05864031 0.23485746\n",
      " 0.20304826 0.32175861]\n"
     ]
    }
   ],
   "source": [
    "print('特徵重要程度: ',DT.feature_importances_)"
   ]
  },
  {
   "cell_type": "code",
   "execution_count": 15,
   "metadata": {
    "colab": {
     "base_uri": "https://localhost:8080/"
    },
    "id": "oWpVvN4WwOti",
    "outputId": "75855f70-08e8-4740-b0bb-ef26f964ad6c"
   },
   "outputs": [
    {
     "name": "stdout",
     "output_type": "stream",
     "text": [
      "[[1168    0]\n",
      " [   0 5920]]\n",
      "======================================================\n",
      "\n",
      "              precision    recall  f1-score   support\n",
      "\n",
      "         0.0       1.00      1.00      1.00      1168\n",
      "         1.0       1.00      1.00      1.00      5920\n",
      "\n",
      "    accuracy                           1.00      7088\n",
      "   macro avg       1.00      1.00      1.00      7088\n",
      "weighted avg       1.00      1.00      1.00      7088\n",
      "\n"
     ]
    }
   ],
   "source": [
    "#評估決策樹訓練集預測結果的混淆矩陣/精準度、召回率、F1\n",
    "DT_pred= DT.predict(X_train)\n",
    "from sklearn.metrics import classification_report,confusion_matrix\n",
    "print(confusion_matrix(y_train,DT_pred))\n",
    "print(\"======================================================\\n\")\n",
    "print(classification_report(y_train,DT_pred))"
   ]
  },
  {
   "cell_type": "code",
   "execution_count": 16,
   "metadata": {
    "colab": {
     "base_uri": "https://localhost:8080/"
    },
    "id": "kQIl5ra1wOnu",
    "outputId": "f3fd7f42-d949-46ab-bd11-def09d107371"
   },
   "outputs": [
    {
     "name": "stdout",
     "output_type": "stream",
     "text": [
      "[[ 459    0]\n",
      " [   0 2580]]\n",
      "======================================================\n",
      "\n",
      "              precision    recall  f1-score   support\n",
      "\n",
      "         0.0       1.00      1.00      1.00       459\n",
      "         1.0       1.00      1.00      1.00      2580\n",
      "\n",
      "    accuracy                           1.00      3039\n",
      "   macro avg       1.00      1.00      1.00      3039\n",
      "weighted avg       1.00      1.00      1.00      3039\n",
      "\n"
     ]
    }
   ],
   "source": [
    "#評估決策樹測試集預測結果的混淆矩陣/精準度、召回率、F1\n",
    "DT_tpred= DT.predict(X_test)\n",
    "from sklearn.metrics import classification_report,confusion_matrix\n",
    "print(confusion_matrix(y_test,DT_tpred))\n",
    "print(\"======================================================\\n\")\n",
    "print(classification_report(y_test,DT_tpred))"
   ]
  },
  {
   "cell_type": "code",
   "execution_count": 17,
   "metadata": {},
   "outputs": [
    {
     "data": {
      "text/plain": [
       "['持卡戶流失']"
      ]
     },
     "execution_count": 17,
     "metadata": {},
     "output_type": "execute_result"
    }
   ],
   "source": [
    "import joblib\n",
    "joblib.dump(DT, '持卡戶流失')"
   ]
  },
  {
   "cell_type": "code",
   "execution_count": 18,
   "metadata": {},
   "outputs": [
    {
     "name": "stdout",
     "output_type": "stream",
     "text": [
      "[0.]\n"
     ]
    },
    {
     "name": "stderr",
     "output_type": "stream",
     "text": [
      "C:\\Users\\alice\\anaconda3\\lib\\site-packages\\sklearn\\base.py:450: UserWarning: X does not have valid feature names, but DecisionTreeClassifier was fitted with feature names\n",
      "  warnings.warn(\n"
     ]
    }
   ],
   "source": [
    "loaded_model = joblib.load('持卡戶流失')\n",
    "result = loaded_model.predict(np.array([[0,0,0,0,3000.0,0.0,2000.0,25.0]]))\n",
    "print(result)\n",
    "#DT.predict([[0,0,0,0,3000.0,0.0,2000.0,25.0]])"
   ]
  },
  {
   "cell_type": "markdown",
   "metadata": {
    "id": "bpfk105dw4zw"
   },
   "source": [
    "#隨機森林"
   ]
  },
  {
   "cell_type": "code",
   "execution_count": 19,
   "metadata": {
    "colab": {
     "base_uri": "https://localhost:8080/",
     "height": 74
    },
    "id": "Py2NYX0ew6l4",
    "outputId": "7af287f7-3055-40d7-9a85-d27eaa798361"
   },
   "outputs": [
    {
     "data": {
      "text/plain": [
       "RandomForestClassifier(n_estimators=55, random_state=60)"
      ]
     },
     "execution_count": 19,
     "metadata": {},
     "output_type": "execute_result"
    }
   ],
   "source": [
    "#使用隨機森林進行機器學習模型\n",
    "from sklearn.ensemble import RandomForestClassifier\n",
    "\n",
    "#n_estimator代表要最高使用多少棵樹\n",
    "RF = RandomForestClassifier(n_estimators=55,random_state=60) #oob_score=True,\n",
    "\n",
    "#從訓練組資料中建立隨機森林模型\n",
    "RF.fit(X_train,y_train)"
   ]
  },
  {
   "cell_type": "code",
   "execution_count": 20,
   "metadata": {
    "colab": {
     "base_uri": "https://localhost:8080/"
    },
    "id": "PcWkR_76xaQL",
    "outputId": "6856feee-4859-4812-a06f-59e5c44487c2"
   },
   "outputs": [
    {
     "name": "stdout",
     "output_type": "stream",
     "text": [
      "特徵重要程度:  [0.01602461 0.02747386 0.09573013 0.04956759 0.09804132 0.17031099\n",
      " 0.29747864 0.24537286]\n"
     ]
    }
   ],
   "source": [
    "#列出各特徵重要程度\n",
    "print('特徵重要程度: ',RF.feature_importances_)\n",
    "#print('oob score: ',RF.oob_score_)"
   ]
  },
  {
   "cell_type": "code",
   "execution_count": 21,
   "metadata": {
    "colab": {
     "base_uri": "https://localhost:8080/"
    },
    "id": "tWA32bLmxaEq",
    "outputId": "ca7557be-36ee-4993-8ab7-2ab0d75083c3"
   },
   "outputs": [
    {
     "name": "stdout",
     "output_type": "stream",
     "text": [
      "[[1168    0]\n",
      " [   1 5919]]\n",
      "======================================================\n",
      "\n",
      "              precision    recall  f1-score   support\n",
      "\n",
      "         0.0       1.00      1.00      1.00      1168\n",
      "         1.0       1.00      1.00      1.00      5920\n",
      "\n",
      "    accuracy                           1.00      7088\n",
      "   macro avg       1.00      1.00      1.00      7088\n",
      "weighted avg       1.00      1.00      1.00      7088\n",
      "\n"
     ]
    }
   ],
   "source": [
    "#評估隨機森林訓練集預測結果的精準度、召回率、F1\n",
    "RF_pred= RF.predict(X_train)\n",
    "from sklearn.metrics import classification_report,confusion_matrix\n",
    "print(confusion_matrix(y_train,RF_pred))\n",
    "print(\"======================================================\\n\")\n",
    "print(classification_report(y_train,RF_pred))"
   ]
  },
  {
   "cell_type": "code",
   "execution_count": 22,
   "metadata": {
    "colab": {
     "base_uri": "https://localhost:8080/"
    },
    "id": "yzr7xkRqxedH",
    "outputId": "0d1b74b9-e33f-4731-fa66-0c642db2db79"
   },
   "outputs": [
    {
     "name": "stdout",
     "output_type": "stream",
     "text": [
      "[[ 361   98]\n",
      " [  56 2524]]\n",
      "======================================================\n",
      "\n",
      "              precision    recall  f1-score   support\n",
      "\n",
      "         0.0       0.87      0.79      0.82       459\n",
      "         1.0       0.96      0.98      0.97      2580\n",
      "\n",
      "    accuracy                           0.95      3039\n",
      "   macro avg       0.91      0.88      0.90      3039\n",
      "weighted avg       0.95      0.95      0.95      3039\n",
      "\n"
     ]
    }
   ],
   "source": [
    "#評估隨機森林測試集預測結果的精準度、召回率、F1\n",
    "RF_tpred= RF.predict(X_test)\n",
    "from sklearn.metrics import classification_report,confusion_matrix\n",
    "print(confusion_matrix(y_test,RF_tpred))\n",
    "print(\"======================================================\\n\")\n",
    "print(classification_report(y_test,RF_tpred))"
   ]
  },
  {
   "cell_type": "markdown",
   "metadata": {
    "id": "1sD7wQzwx0OG"
   },
   "source": [
    "# 羅吉斯回歸"
   ]
  },
  {
   "cell_type": "code",
   "execution_count": 23,
   "metadata": {
    "colab": {
     "base_uri": "https://localhost:8080/",
     "height": 213
    },
    "id": "yKV2m4d9x4A6",
    "outputId": "4f95ab92-1299-45e6-a014-277d1a47847b"
   },
   "outputs": [
    {
     "data": {
      "text/plain": [
       "LogisticRegression()"
      ]
     },
     "execution_count": 23,
     "metadata": {},
     "output_type": "execute_result"
    }
   ],
   "source": [
    "#利用邏輯斯迴歸分析建立預測模式\n",
    "from sklearn.linear_model import LogisticRegression\n",
    "LR = LogisticRegression()\n",
    "LR.fit(X, y)"
   ]
  },
  {
   "cell_type": "code",
   "execution_count": 24,
   "metadata": {
    "colab": {
     "base_uri": "https://localhost:8080/"
    },
    "id": "0uwTWQP7x4Zv",
    "outputId": "44ccee0d-cb72-4ffc-bbc5-f4bcca2662c8"
   },
   "outputs": [
    {
     "name": "stdout",
     "output_type": "stream",
     "text": [
      "[[ 401  767]\n",
      " [ 160 5760]]\n",
      "======================================================\n",
      "\n",
      "              precision    recall  f1-score   support\n",
      "\n",
      "         0.0       0.71      0.34      0.46      1168\n",
      "         1.0       0.88      0.97      0.93      5920\n",
      "\n",
      "    accuracy                           0.87      7088\n",
      "   macro avg       0.80      0.66      0.69      7088\n",
      "weighted avg       0.85      0.87      0.85      7088\n",
      "\n"
     ]
    }
   ],
   "source": [
    "#計算正確率、精準度、召回率及綜合指標f1(train訓練集)\n",
    "from sklearn.metrics import classification_report,confusion_matrix\n",
    "LR_pred= LR.predict(X_train)\n",
    "print(confusion_matrix(y_train,LR_pred))\n",
    "print(\"======================================================\\n\")\n",
    "print(classification_report(y_train,LR_pred))"
   ]
  },
  {
   "cell_type": "code",
   "execution_count": 25,
   "metadata": {
    "colab": {
     "base_uri": "https://localhost:8080/"
    },
    "id": "oQV4fkeTx4TE",
    "outputId": "136d9854-3b74-431e-85bf-0fd281144f47"
   },
   "outputs": [
    {
     "name": "stdout",
     "output_type": "stream",
     "text": [
      "[[ 145  314]\n",
      " [  69 2511]]\n",
      "======================================================\n",
      "\n",
      "              precision    recall  f1-score   support\n",
      "\n",
      "         0.0       0.68      0.32      0.43       459\n",
      "         1.0       0.89      0.97      0.93      2580\n",
      "\n",
      "    accuracy                           0.87      3039\n",
      "   macro avg       0.78      0.64      0.68      3039\n",
      "weighted avg       0.86      0.87      0.85      3039\n",
      "\n"
     ]
    }
   ],
   "source": [
    "#計算正確率、精準度、召回率及綜合指標f1(test測試集)\n",
    "from sklearn.metrics import classification_report,confusion_matrix\n",
    "LR_tpred= LR.predict(X_test)\n",
    "print(confusion_matrix(y_test,LR_tpred))\n",
    "print(\"======================================================\\n\")\n",
    "print(classification_report(y_test,LR_tpred))"
   ]
  },
  {
   "cell_type": "markdown",
   "metadata": {
    "id": "jTWD9LCRyGul"
   },
   "source": [
    "# 判別分析"
   ]
  },
  {
   "cell_type": "code",
   "execution_count": 26,
   "metadata": {
    "colab": {
     "base_uri": "https://localhost:8080/",
     "height": 74
    },
    "id": "WF6Gbc6ayRVK",
    "outputId": "5cf07ec6-cd44-4513-df3f-df874d4fd5c2"
   },
   "outputs": [
    {
     "data": {
      "text/plain": [
       "LinearDiscriminantAnalysis()"
      ]
     },
     "execution_count": 26,
     "metadata": {},
     "output_type": "execute_result"
    }
   ],
   "source": [
    "from sklearn.discriminant_analysis import LinearDiscriminantAnalysis\n",
    "LDA = LinearDiscriminantAnalysis()\n",
    "LDA.fit(X_train,y_train)"
   ]
  },
  {
   "cell_type": "code",
   "execution_count": 27,
   "metadata": {
    "colab": {
     "base_uri": "https://localhost:8080/"
    },
    "id": "biWwXxcXyRsI",
    "outputId": "2b25ecd6-3805-4e9a-dfd9-13f31794c1e2"
   },
   "outputs": [
    {
     "name": "stdout",
     "output_type": "stream",
     "text": [
      "[[ 598  570]\n",
      " [ 236 5684]]\n",
      "======================================================\n",
      "\n",
      "              precision    recall  f1-score   support\n",
      "\n",
      "         0.0       0.72      0.51      0.60      1168\n",
      "         1.0       0.91      0.96      0.93      5920\n",
      "\n",
      "    accuracy                           0.89      7088\n",
      "   macro avg       0.81      0.74      0.77      7088\n",
      "weighted avg       0.88      0.89      0.88      7088\n",
      "\n"
     ]
    }
   ],
   "source": [
    "#列印訓練完成之模式的混淆矩陣(confusion matrix)以及模式衡量指標\n",
    "from sklearn.metrics import classification_report,confusion_matrix\n",
    "LDA_pred= LDA.predict(X_train)\n",
    "print(confusion_matrix(y_train,LDA_pred))\n",
    "print(\"======================================================\\n\")\n",
    "print(classification_report(y_train,LDA_pred))"
   ]
  },
  {
   "cell_type": "code",
   "execution_count": 28,
   "metadata": {
    "colab": {
     "base_uri": "https://localhost:8080/"
    },
    "id": "sk_lnC8eyRpI",
    "outputId": "16478d2e-a91a-4ff2-8f32-6b28ee5141e3"
   },
   "outputs": [
    {
     "name": "stdout",
     "output_type": "stream",
     "text": [
      "[[ 232  227]\n",
      " [ 109 2471]]\n",
      "======================================================\n",
      "\n",
      "              precision    recall  f1-score   support\n",
      "\n",
      "         0.0       0.68      0.51      0.58       459\n",
      "         1.0       0.92      0.96      0.94      2580\n",
      "\n",
      "    accuracy                           0.89      3039\n",
      "   macro avg       0.80      0.73      0.76      3039\n",
      "weighted avg       0.88      0.89      0.88      3039\n",
      "\n"
     ]
    }
   ],
   "source": [
    "#列印測試資料的混淆矩陣(confusion matrix)以及模式衡量指標\n",
    "LDA_tpred= LDA.predict(X_test)\n",
    "print(confusion_matrix(y_test,LDA_tpred))\n",
    "print(\"======================================================\\n\")\n",
    "print(classification_report(y_test,LDA_tpred))"
   ]
  },
  {
   "cell_type": "markdown",
   "metadata": {
    "id": "XKBD-tUO3Hg1"
   },
   "source": [
    "# SVM"
   ]
  },
  {
   "cell_type": "code",
   "execution_count": 35,
   "metadata": {},
   "outputs": [
    {
     "data": {
      "text/plain": [
       "SVC(C=1, gamma='auto')"
      ]
     },
     "execution_count": 35,
     "metadata": {},
     "output_type": "execute_result"
    }
   ],
   "source": [
    "from sklearn import svm \n",
    "clf = svm.SVC(kernel='rbf',C=1,gamma='auto') \n",
    "clf.fit(X_train,y_train)"
   ]
  },
  {
   "cell_type": "code",
   "execution_count": 36,
   "metadata": {
    "id": "8vtW2JX53Kmq"
   },
   "outputs": [
    {
     "name": "stdout",
     "output_type": "stream",
     "text": [
      "[[1168    0]\n",
      " [   0 5920]]\n",
      "======================================================\n",
      "\n",
      "              precision    recall  f1-score   support\n",
      "\n",
      "         0.0       1.00      1.00      1.00      1168\n",
      "         1.0       1.00      1.00      1.00      5920\n",
      "\n",
      "    accuracy                           1.00      7088\n",
      "   macro avg       1.00      1.00      1.00      7088\n",
      "weighted avg       1.00      1.00      1.00      7088\n",
      "\n"
     ]
    }
   ],
   "source": [
    "#列印訓練完成之模式的混淆矩陣(confusion matrix)以及模式衡量指標\n",
    "from sklearn.metrics import classification_report,confusion_matrix\n",
    "clf_pred= clf.predict(X_train)\n",
    "print(confusion_matrix(y_train,clf_pred))\n",
    "print(\"======================================================\\n\")\n",
    "print(classification_report(y_train,clf_pred))"
   ]
  },
  {
   "cell_type": "code",
   "execution_count": 37,
   "metadata": {
    "id": "hcONR3gO3KfJ"
   },
   "outputs": [
    {
     "name": "stdout",
     "output_type": "stream",
     "text": [
      "[[   0  459]\n",
      " [   0 2580]]\n",
      "======================================================\n",
      "\n",
      "              precision    recall  f1-score   support\n",
      "\n",
      "         0.0       0.00      0.00      0.00       459\n",
      "         1.0       0.85      1.00      0.92      2580\n",
      "\n",
      "    accuracy                           0.85      3039\n",
      "   macro avg       0.42      0.50      0.46      3039\n",
      "weighted avg       0.72      0.85      0.78      3039\n",
      "\n"
     ]
    },
    {
     "name": "stderr",
     "output_type": "stream",
     "text": [
      "C:\\Users\\alice\\anaconda3\\lib\\site-packages\\sklearn\\metrics\\_classification.py:1318: UndefinedMetricWarning: Precision and F-score are ill-defined and being set to 0.0 in labels with no predicted samples. Use `zero_division` parameter to control this behavior.\n",
      "  _warn_prf(average, modifier, msg_start, len(result))\n",
      "C:\\Users\\alice\\anaconda3\\lib\\site-packages\\sklearn\\metrics\\_classification.py:1318: UndefinedMetricWarning: Precision and F-score are ill-defined and being set to 0.0 in labels with no predicted samples. Use `zero_division` parameter to control this behavior.\n",
      "  _warn_prf(average, modifier, msg_start, len(result))\n",
      "C:\\Users\\alice\\anaconda3\\lib\\site-packages\\sklearn\\metrics\\_classification.py:1318: UndefinedMetricWarning: Precision and F-score are ill-defined and being set to 0.0 in labels with no predicted samples. Use `zero_division` parameter to control this behavior.\n",
      "  _warn_prf(average, modifier, msg_start, len(result))\n"
     ]
    }
   ],
   "source": [
    "clf_tpred= clf.predict(X_test)\n",
    "print(confusion_matrix(y_test,clf_tpred))\n",
    "print(\"======================================================\\n\")\n",
    "print(classification_report(y_test,clf_tpred))"
   ]
  },
  {
   "cell_type": "markdown",
   "metadata": {
    "id": "v2J1kGts3YPO"
   },
   "source": [
    "# 類神經網路"
   ]
  },
  {
   "cell_type": "code",
   "execution_count": 29,
   "metadata": {
    "id": "_dpr0-8i3bDx"
   },
   "outputs": [
    {
     "data": {
      "text/plain": [
       "MLPClassifier(hidden_layer_sizes=(20, 10, 2), random_state=50, solver='lbfgs')"
      ]
     },
     "execution_count": 29,
     "metadata": {},
     "output_type": "execute_result"
    }
   ],
   "source": [
    "from sklearn.neural_network import MLPClassifier\n",
    "MLP = MLPClassifier(solver='lbfgs',hidden_layer_sizes=(20,10,2), random_state=50)\n",
    "MLP.fit(X_train,y_train) "
   ]
  },
  {
   "cell_type": "code",
   "execution_count": 30,
   "metadata": {
    "id": "Q5HSuXym3bfF"
   },
   "outputs": [
    {
     "name": "stdout",
     "output_type": "stream",
     "text": [
      "[[   0 1168]\n",
      " [   0 5920]]\n",
      "======================================================\n",
      "\n",
      "              precision    recall  f1-score   support\n",
      "\n",
      "         0.0       0.00      0.00      0.00      1168\n",
      "         1.0       0.84      1.00      0.91      5920\n",
      "\n",
      "    accuracy                           0.84      7088\n",
      "   macro avg       0.42      0.50      0.46      7088\n",
      "weighted avg       0.70      0.84      0.76      7088\n",
      "\n"
     ]
    },
    {
     "name": "stderr",
     "output_type": "stream",
     "text": [
      "C:\\Users\\alice\\anaconda3\\lib\\site-packages\\sklearn\\metrics\\_classification.py:1318: UndefinedMetricWarning: Precision and F-score are ill-defined and being set to 0.0 in labels with no predicted samples. Use `zero_division` parameter to control this behavior.\n",
      "  _warn_prf(average, modifier, msg_start, len(result))\n",
      "C:\\Users\\alice\\anaconda3\\lib\\site-packages\\sklearn\\metrics\\_classification.py:1318: UndefinedMetricWarning: Precision and F-score are ill-defined and being set to 0.0 in labels with no predicted samples. Use `zero_division` parameter to control this behavior.\n",
      "  _warn_prf(average, modifier, msg_start, len(result))\n",
      "C:\\Users\\alice\\anaconda3\\lib\\site-packages\\sklearn\\metrics\\_classification.py:1318: UndefinedMetricWarning: Precision and F-score are ill-defined and being set to 0.0 in labels with no predicted samples. Use `zero_division` parameter to control this behavior.\n",
      "  _warn_prf(average, modifier, msg_start, len(result))\n"
     ]
    }
   ],
   "source": [
    "MLP_pred= MLP.predict(X_train)\n",
    "from sklearn.metrics import classification_report,confusion_matrix\n",
    "print(confusion_matrix(y_train,MLP_pred))\n",
    "print(\"======================================================\\n\")\n",
    "print(classification_report(y_train,MLP_pred))"
   ]
  },
  {
   "cell_type": "code",
   "execution_count": 31,
   "metadata": {
    "id": "IOhIGRqU3baQ"
   },
   "outputs": [
    {
     "name": "stdout",
     "output_type": "stream",
     "text": [
      "[[   0  459]\n",
      " [   0 2580]]\n",
      "======================================================\n",
      "\n",
      "              precision    recall  f1-score   support\n",
      "\n",
      "         0.0       0.00      0.00      0.00       459\n",
      "         1.0       0.85      1.00      0.92      2580\n",
      "\n",
      "    accuracy                           0.85      3039\n",
      "   macro avg       0.42      0.50      0.46      3039\n",
      "weighted avg       0.72      0.85      0.78      3039\n",
      "\n"
     ]
    },
    {
     "name": "stderr",
     "output_type": "stream",
     "text": [
      "C:\\Users\\alice\\anaconda3\\lib\\site-packages\\sklearn\\metrics\\_classification.py:1318: UndefinedMetricWarning: Precision and F-score are ill-defined and being set to 0.0 in labels with no predicted samples. Use `zero_division` parameter to control this behavior.\n",
      "  _warn_prf(average, modifier, msg_start, len(result))\n",
      "C:\\Users\\alice\\anaconda3\\lib\\site-packages\\sklearn\\metrics\\_classification.py:1318: UndefinedMetricWarning: Precision and F-score are ill-defined and being set to 0.0 in labels with no predicted samples. Use `zero_division` parameter to control this behavior.\n",
      "  _warn_prf(average, modifier, msg_start, len(result))\n",
      "C:\\Users\\alice\\anaconda3\\lib\\site-packages\\sklearn\\metrics\\_classification.py:1318: UndefinedMetricWarning: Precision and F-score are ill-defined and being set to 0.0 in labels with no predicted samples. Use `zero_division` parameter to control this behavior.\n",
      "  _warn_prf(average, modifier, msg_start, len(result))\n"
     ]
    }
   ],
   "source": [
    "MLP_tpred= MLP.predict(X_test)\n",
    "from sklearn.metrics import classification_report,confusion_matrix\n",
    "print(confusion_matrix(y_test,MLP_tpred))\n",
    "print(\"======================================================\\n\")\n",
    "print(classification_report(y_test,MLP_tpred))"
   ]
  },
  {
   "cell_type": "markdown",
   "metadata": {},
   "source": [
    "# KNN "
   ]
  },
  {
   "cell_type": "code",
   "execution_count": 32,
   "metadata": {
    "id": "e9EMXSZc3bUA"
   },
   "outputs": [
    {
     "data": {
      "text/plain": [
       "KNeighborsClassifier()"
      ]
     },
     "execution_count": 32,
     "metadata": {},
     "output_type": "execute_result"
    }
   ],
   "source": [
    "from sklearn.neighbors import KNeighborsClassifier\n",
    "KNN = KNeighborsClassifier()\n",
    "KNN.fit(X_train,y_train)"
   ]
  },
  {
   "cell_type": "code",
   "execution_count": 33,
   "metadata": {},
   "outputs": [
    {
     "name": "stdout",
     "output_type": "stream",
     "text": [
      "[[ 785  383]\n",
      " [ 205 5715]]\n",
      "======================================================\n",
      "\n",
      "              precision    recall  f1-score   support\n",
      "\n",
      "         0.0       0.79      0.67      0.73      1168\n",
      "         1.0       0.94      0.97      0.95      5920\n",
      "\n",
      "    accuracy                           0.92      7088\n",
      "   macro avg       0.87      0.82      0.84      7088\n",
      "weighted avg       0.91      0.92      0.91      7088\n",
      "\n"
     ]
    }
   ],
   "source": [
    "KNN_pred= KNN.predict(X_train)\n",
    "from sklearn.metrics import classification_report,confusion_matrix\n",
    "print(confusion_matrix(y_train,KNN_pred))\n",
    "print(\"======================================================\\n\")\n",
    "print(classification_report(y_train,KNN_pred))"
   ]
  },
  {
   "cell_type": "code",
   "execution_count": 34,
   "metadata": {},
   "outputs": [
    {
     "name": "stdout",
     "output_type": "stream",
     "text": [
      "[[ 260  199]\n",
      " [ 129 2451]]\n",
      "======================================================\n",
      "\n",
      "              precision    recall  f1-score   support\n",
      "\n",
      "         0.0       0.67      0.57      0.61       459\n",
      "         1.0       0.92      0.95      0.94      2580\n",
      "\n",
      "    accuracy                           0.89      3039\n",
      "   macro avg       0.80      0.76      0.78      3039\n",
      "weighted avg       0.89      0.89      0.89      3039\n",
      "\n"
     ]
    }
   ],
   "source": [
    "KNN_tpred= KNN.predict(X_test)\n",
    "from sklearn.metrics import classification_report,confusion_matrix\n",
    "print(confusion_matrix(y_test,KNN_tpred))\n",
    "print(\"======================================================\\n\")\n",
    "print(classification_report(y_test,KNN_tpred))"
   ]
  },
  {
   "cell_type": "code",
   "execution_count": null,
   "metadata": {},
   "outputs": [],
   "source": []
  }
 ],
 "metadata": {
  "colab": {
   "provenance": []
  },
  "kernelspec": {
   "display_name": "Python 3 (ipykernel)",
   "language": "python",
   "name": "python3"
  },
  "language_info": {
   "codemirror_mode": {
    "name": "ipython",
    "version": 3
   },
   "file_extension": ".py",
   "mimetype": "text/x-python",
   "name": "python",
   "nbconvert_exporter": "python",
   "pygments_lexer": "ipython3",
   "version": "3.9.12"
  }
 },
 "nbformat": 4,
 "nbformat_minor": 1
}
